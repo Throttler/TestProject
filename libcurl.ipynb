{
 "cells": [
 {
   "cell_type": "markdown",
   "metadata": {},
   "source": [
    "# Example of libcurl executing"
   ]
  },
  {
   "cell_type": "code",
   "execution_count": 1,
   "metadata": {
    "collapsed": true
   },
   "outputs": [],
   "source": [
    "#pragma cling add_include_path("/srv/conda/envs/notebook/include/")\n",
    "#pragma cling add_library_path("/srv/conda/envs/notebook/lib/")\n",
    "#pragma cling load("libcurl")\n",
    "\n",
    "#include <stdio.h>
      #include <curl/curl.h>
      #include <iostream>\n",
    "using namespace std;\n",
    "cout << "hello!" << endl;\n",
    
   ]
  }
}
