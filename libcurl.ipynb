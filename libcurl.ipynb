{
 "cells": [
  {
   "cell_type": "markdown",
   "metadata": {},
   "source": [
    "It is convenient to provide an [example Jupyter notebook ](example_notebook/import_mypackage.ipynb) for a new package and add the hooks necessary to run the example with Binder. However, normally the package will not be included in the python path. To do that, one needs a `setup.py` for the package (see [binder docs](https://mybinder.readthedocs.io/en/latest/using.html#setup-py)). Once this is done, it is possible to import the package in a notebook running within Binder."
   ]
  },
  {
   "cell_type": "code",
   "execution_count": 1,
   "metadata": {},
   "outputs": [],
   "source": [
    "#pragma cling add_include_path("/srv/conda/envs/notebook/include/")\n",
    "#pragma cling add_library_path("/srv/conda/envs/notebook/lib/")\n",
    "#pragma cling load("libcurl")\n",
    "#include <stdio.h>",
    "#include <curl/curl.h>",
    "#include <iostream>",
    "std::cout << "hello!" << std::endl;"
   ]
  },
 ],
 "metadata": {},
 "nbformat": 4,
 "nbformat_minor": 2
}
