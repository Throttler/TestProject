{
 "cells": [
 {
   "cell_type": "markdown",
   "metadata": {},
   "source": [
    "# Example of libcurl executing"
   ]
  },
  {
   "cell_type": "code",
   "execution_count": 1,
   "metadata": {
    "collapsed": true
   },
   "outputs": [],
   "source": [
    "#pragma cling add_include_path("/srv/conda/envs/notebook/include/")\n",
    "#pragma cling add_library_path("/srv/conda/envs/notebook/lib/")\n",
    "#pragma cling load("libcurl")\n",
    "\n",
    "#include <stdio.h>
      #include <curl/curl.h>
      #include <iostream>\n",
    "using namespace std;\n",
    "cout << "hello!" << endl;\n",
    
   ]
  },
  ],
 "metadata": {
  "kernelspec": {
   "display_name": "Python 3",
   "language": "python",
   "name": "python3"
  },
  "language_info": {
   "codemirror_mode": {
    "name": "ipython",
    "version": 3
   },
   "file_extension": ".py",
   "mimetype": "text/x-python",
   "name": "python",
   "nbconvert_exporter": "python",
   "pygments_lexer": "ipython3",
   "version": "3.6.1"
  }
 },
 "nbformat": 4,
 "nbformat_minor": 2
}
