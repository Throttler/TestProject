{
 "cells": [
  {
   "cell_type": "code",
   "execution_count": null,
   "metadata": {},
   "outputs": [],
   "source": [
    "#pragma cling add_include_path(\"/srv/conda/envs/notebook/include/\")\n",
    "#pragma cling add_library_path(\"/srv/conda/envs/notebook/lib/\")\n",
    "#pragma cling load(\"libcurl\")\n",
    "#include <stdio.h>\n",
    "#include <curl/curl.h>\n",
    "#include <iostream>\n",
    "std::cout << \"EXAMPLE\" << std::endl;"
   ]
  },
  {
   "cell_type": "code",
   "execution_count": 2,
   "metadata": {},
   "outputs": [],
   "source": [
    "CURL *curl = curl_easy_init();\n",
    "CURLcode res;\n",
    " \n",
    "curl_global_init(CURL_GLOBAL_DEFAULT);"
   ]
  },
  {
   "cell_type": "code",
   "execution_count": 3,
   "metadata": {},
   "outputs": [
    {
     "name": "stdout",
     "output_type": "stream",
     "text": [
      "https://example.com/\n",
      "2\n"
     ]
    }
   ],
   "source": [
    "if(curl) {\n",
    "    curl_easy_setopt(curl, CURLOPT_URL, \"https://example.com/\");\n",
    " \n",
    "#ifdef SKIP_PEER_VERIFICATION\n",
    "    curl_easy_setopt(curl, CURLOPT_SSL_VERIFYPEER, 0L);\n",
    "#endif\n",
    " \n",
    "#ifdef SKIP_HOSTNAME_VERIFICATION\n",
    "    curl_easy_setopt(curl, CURLOPT_SSL_VERIFYHOST, 0L);\n",
    "#endif\n",
    "    res = curl_easy_perform(curl);\n",
    "    if(res != CURLE_OK){\n",
    "      fprintf(stderr, \"curl_easy_perform() failed: %s\\n\",curl_easy_strerror(res));\n",
    "    }else{\n",
    "        char *url = NULL;\n",
    "        curl_easy_getinfo(curl, CURLINFO_EFFECTIVE_URL, &url);\n",
    "        std::cout << url << std::endl;\n",
    "    }\n",
    "    \n",
    "    curl_easy_cleanup(curl);\n",
    "  } \n",
    "curl_global_cleanup();"
   ]
  },
  {
   "cell_type": "code",
   "execution_count": null,
   "metadata": {},
   "outputs": [],
   "source": []
  }
 ],
 "metadata": {
  "kernelspec": {
   "display_name": "C++14",
   "language": "C++14",
   "name": "xcpp14"
  },
  "language_info": {
   "codemirror_mode": "text/x-c++src",
   "file_extension": ".cpp",
   "mimetype": "text/x-c++src",
   "name": "c++",
   "version": "-std=c++14"
  }
 },
 "nbformat": 4,
 "nbformat_minor": 2
}
