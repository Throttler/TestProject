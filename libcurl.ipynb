{
 "cells": [
  {
   "cell_type": "code",
   "execution_count": null,
   "metadata": {},
   "outputs": [],
   "source": [
    "#pragma cling load(\"libcurl\")\n",
    "#include <stdio.h>\n",
    "#include <curl/curl.h>\n",
    "#include <iostream>\n",
    "#include <string>\n",
    "#include <func.h>\n",
    "using namespace std;\n",
    "namespace std{\n",
    "    size_t WriteCallback(void *contents, size_t size, size_t nmemb, void *userp) {\n",
    "\t((string *)userp)->append((char *)contents, size * nmemb);\n",
    "\treturn size * nmemb;\n",
    "    }\n",
    "}\n",
    "string response;"
   ]
  },
  {
   "cell_type": "code",
   "execution_count": null,
   "metadata": {},
   "outputs": [],
   "source": [
    "CURL *curl = curl_easy_init();\n",
    "CURLcode res;\n",
    " \n",
    "curl_global_init(CURL_GLOBAL_DEFAULT);"
   ]
  },
  {
   "cell_type": "code",
   "execution_count": null,
   "metadata": {},
   "outputs": [],
   "source": [
    "if(curl) {\n",
    "    curl_easy_setopt(curl, CURLOPT_URL, \"https://example.com/\");\n",
    " \n",
    "#ifdef SKIP_PEER_VERIFICATION\n",
    "    curl_easy_setopt(curl, CURLOPT_SSL_VERIFYPEER, 0L);\n",
    "#endif\n",
    " \n",
    "#ifdef SKIP_HOSTNAME_VERIFICATION\n",
    "    curl_easy_setopt(curl, CURLOPT_SSL_VERIFYHOST, 0L);\n",
    "#endif\n",
    "    curl_easy_setopt(curl, CURLOPT_WRITEFUNCTION, WriteCallback);\n",
    "\tcurl_easy_setopt(curl, CURLOPT_WRITEDATA, &response);\n",
    "    res = curl_easy_perform(curl);\n",
    "    \n",
    "    if(res != CURLE_OK){\n",
    "      fprintf(stderr, \"curl_easy_perform() failed: %s\\n\",curl_easy_strerror(res));\n",
    "    }else{\n",
    "        char *url = NULL;\n",
    "        curl_easy_getinfo(curl, CURLINFO_EFFECTIVE_URL, &url);\n",
    "        std::cout << url << std::endl;\n",
    "        std::cout << response << std::endl;\n",
    "    }\n",
    "    \n",
    "    curl_easy_cleanup(curl);\n",
    "  } \n",
    "curl_global_cleanup();"
   ]
  }
 ],
 "metadata": {
  "kernelspec": {
   "display_name": "C++14",
   "language": "C++14",
   "name": "xcpp14"
  },
  "language_info": {
   "codemirror_mode": "text/x-c++src",
   "file_extension": ".cpp",
   "mimetype": "text/x-c++src",
   "name": "c++",
   "version": "-std=c++14"
  }
 },
 "nbformat": 4,
 "nbformat_minor": 2
}
