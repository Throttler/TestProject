{
 "cells": [
  {
   "cell_type": "code",
   "execution_count": 1,
   "metadata": {},
   "outputs": [],
   "source": [
    "#pragma cling load(\"libcurl\")\n",
    "#include <stdio.h>\n",
    "#include <curl/curl.h>\n",
    "#include <iostream>\n",
    "#include <string>\n",
    "\n",
    "namespace std{\n",
    "    size_t WriteCallback(void *contents, size_t size, size_t nmemb, void *userp) {\n",
    "\t((string *)userp)->append((char *)contents, size * nmemb);\n",
    "\treturn size * nmemb;\n",
    "    }\n",
    "}\n",
    "using namespace std;\n",
    "\n",
    "string response;"
   ]
  },
  {
   "cell_type": "code",
   "execution_count": 2,
   "metadata": {},
   "outputs": [],
   "source": [
    "CURL *curl = curl_easy_init();\n",
    "CURLcode res;\n",
    " \n",
    "curl_global_init(CURL_GLOBAL_DEFAULT);"
   ]
  },
  {
   "cell_type": "code",
   "execution_count": 3,
   "metadata": {},
   "outputs": [
    {
     "name": "stdout",
     "output_type": "stream",
     "text": [
      "https://example.com/\n",
      "<!doctype html>\n",
      "<html>\n",
      "<head>\n",
      "    <title>Example Domain</title>\n",
      "\n",
      "    <meta charset=\"utf-8\" />\n",
      "    <meta http-equiv=\"Content-type\" content=\"text/html; charset=utf-8\" />\n",
      "    <meta name=\"viewport\" content=\"width=device-width, initial-scale=1\" />\n",
      "    <style type=\"text/css\">\n",
      "    body {\n",
      "        background-color: #f0f0f2;\n",
      "        margin: 0;\n",
      "        padding: 0;\n",
      "        font-family: -apple-system, system-ui, BlinkMacSystemFont, \"Segoe UI\", \"Open Sans\", \"Helvetica Neue\", Helvetica, Arial, sans-serif;\n",
      "        \n",
      "    }\n",
      "    div {\n",
      "        width: 600px;\n",
      "        margin: 5em auto;\n",
      "        padding: 2em;\n",
      "        background-color: #fdfdff;\n",
      "        border-radius: 0.5em;\n",
      "        box-shadow: 2px 3px 7px 2px rgba(0,0,0,0.02);\n",
      "    }\n",
      "    a:link, a:visited {\n",
      "        color: #38488f;\n",
      "        text-decoration: none;\n",
      "    }\n",
      "    @media (max-width: 700px) {\n",
      "        div {\n",
      "            margin: 0 auto;\n",
      "            width: auto;\n",
      "        }\n",
      "    }\n",
      "    </style>    \n",
      "</head>\n",
      "\n",
      "<body>\n",
      "<div>\n",
      "    <h1>Example Domain</h1>\n",
      "    <p>This domain is for use in illustrative examples in documents. You may use this\n",
      "    domain in literature without prior coordination or asking for permission.</p>\n",
      "    <p><a href=\"https://www.iana.org/domains/example\">More information...</a></p>\n",
      "</div>\n",
      "</body>\n",
      "</html>\n",
      "\n"
     ]
    }
   ],
   "source": [
    "if(curl) {\n",
    "    curl_easy_setopt(curl, CURLOPT_URL, \"https://example.com/\");\n",
    " \n",
    "#ifdef SKIP_PEER_VERIFICATION\n",
    "    curl_easy_setopt(curl, CURLOPT_SSL_VERIFYPEER, 0L);\n",
    "#endif\n",
    " \n",
    "#ifdef SKIP_HOSTNAME_VERIFICATION\n",
    "    curl_easy_setopt(curl, CURLOPT_SSL_VERIFYHOST, 0L);\n",
    "#endif\n",
    "    curl_easy_setopt(curl, CURLOPT_WRITEFUNCTION, WriteCallback);\n",
    "\tcurl_easy_setopt(curl, CURLOPT_WRITEDATA, &response);\n",
    "    res = curl_easy_perform(curl);\n",
    "    \n",
    "    if(res != CURLE_OK){\n",
    "      fprintf(stderr, \"curl_easy_perform() failed: %s\\n\",curl_easy_strerror(res));\n",
    "    }else{\n",
    "        char *url = NULL;\n",
    "        curl_easy_getinfo(curl, CURLINFO_EFFECTIVE_URL, &url);\n",
    "        std::cout << url << std::endl;\n",
    "        std::cout << response << std::endl;\n",
    "    }\n",
    "    \n",
    "    curl_easy_cleanup(curl);\n",
    "  } \n",
    "curl_global_cleanup();"
   ]
  },
  {
   "cell_type": "code",
   "execution_count": null,
   "metadata": {},
   "outputs": [],
   "source": []
  }
 ],
 "metadata": {
  "kernelspec": {
   "display_name": "C++14",
   "language": "C++14",
   "name": "xcpp14"
  },
  "language_info": {
   "codemirror_mode": "text/x-c++src",
   "file_extension": ".cpp",
   "mimetype": "text/x-c++src",
   "name": "c++",
   "version": "-std=c++14"
  }
 },
 "nbformat": 4,
 "nbformat_minor": 2
}
