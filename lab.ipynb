{
 "cells": [
  {
   "cell_type": "code",
   "execution_count": 1,
   "metadata": {},
   "outputs": [],
   "source": [
    "import random\n",
    "from math import sqrt\n",
    "from math import floor, sqrt\n",
    "import matplotlib.pyplot as plt\n",
    "from pylab import rcParams\n"
   ]
  },
  {
   "cell_type": "code",
   "execution_count": 2,
   "metadata": {},
   "outputs": [],
   "source": [
    "def random_var_batch(a, b, c, amount=1):\n",
    "    values = []\n",
    "    for i in range(amount):\n",
    "        values.append(random_var(a,b,c))\n",
    "\n",
    "    return values"
   ]
  },
  {
   "cell_type": "code",
   "execution_count": 3,
   "metadata": {},
   "outputs": [],
   "source": [
    "def random_var(a,b,c):\n",
    "    u = random.uniform(0, 1);\n",
    "    \n",
    "    hight = 2 / (a + 4 * b)\n",
    "    \n",
    "    first_bound = hight * a * (3 * a + 4 * b + 2 * c) / 2\n",
    "    second_bound = hight * (3 * a + 6 * b + 2 * c) / 2\n",
    "    \n",
    "    if u >= 0 and u < first_bound:\n",
    "        return -2 * (a + 2 * b +c) + sqrt(pow(a + 2 * b +c,2) - 2 * a * u /hight)\n",
    "    if u >= first_bound and u < second_bound:\n",
    "        return 2 * u / hight - 3 * a - 8 * b - 4 * c\n",
    "    if u >= second_bound and u < 1:\n",
    "        return 2 * u / hight - 3 * a - 8 * b - 2 * c\n",
    "    \n",
    "random.seed(0)"
   ]
  },
  {
   "cell_type": "code",
   "execution_count": 8,
   "metadata": {},
   "outputs": [],
   "source": [
    "data = random_var_batch(10, 3, 1, 10000)\n",
    "\n",
    "rcParams['figure.figsize'] = 10, 8"
   ]
  },
  {
   "cell_type": "code",
   "execution_count": 9,
   "metadata": {},
   "outputs": [
    {
     "data": {
      "image/png": "[encoded data removed]",
      "text/plain": [
       "<Figure size 720x576 with 1 Axes>"
      ]
     },
     "metadata": {
      "needs_background": "light"
     },
     "output_type": "display_data"
    }
   ],
   "source": [
    "def frequency(data: list, step: float) -> dict:\n",
    "    size = len(data)\n",
    "    result = {}\n",
    "\n",
    "    for i in range(0, size):\n",
    "        key = data[i] // step\n",
    "        result[key] = result.get(key, 0) + 1\n",
    "\n",
    "    return result\n",
    "\n",
    "freq = frequency(data, 1)\n",
    "plt.bar(freq.keys(), freq.values())\n",
    "plt.plot\n",
    "plt.show()\n"
   ]
  },
  {
   "cell_type": "code",
   "execution_count": null,
   "metadata": {},
   "outputs": [],
   "source": []
  }
 ],
 "metadata": {
  "kernelspec": {
   "display_name": "Python 3",
   "language": "python",
   "name": "python3"
  },
  "language_info": {
   "codemirror_mode": {
    "name": "ipython",
    "version": 3
   },
   "file_extension": ".py",
   "mimetype": "text/x-python",
   "name": "python",
   "nbconvert_exporter": "python",
   "pygments_lexer": "ipython3",
   "version": "3.7.6"
  }
 },
 "nbformat": 4,
 "nbformat_minor": 4
}

